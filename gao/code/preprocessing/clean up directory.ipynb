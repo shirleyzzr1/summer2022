{
 "cells": [
  {
   "cell_type": "markdown",
   "id": "529d51da",
   "metadata": {},
   "source": [
    "# Clean Up Directory\n",
    "Removes data files not needed (i.e., dates which we don't have data for both)"
   ]
  },
  {
   "cell_type": "code",
   "execution_count": 1,
   "id": "b487ba73",
   "metadata": {},
   "outputs": [],
   "source": [
    "import numpy as np\n",
    "import os"
   ]
  },
  {
   "cell_type": "code",
   "execution_count": 2,
   "id": "83342323",
   "metadata": {},
   "outputs": [],
   "source": [
    "from IPython.display import Audio, display\n",
    "\n",
    "# play a sound whenever an exception is hit\n",
    "def play_sound(self, etype, value, tb, tb_offset=None):\n",
    "    self.showtraceback((etype, value, tb), tb_offset=tb_offset)\n",
    "    display(Audio(\"../../sfx.mp3\", autoplay=True))\n",
    "get_ipython().set_custom_exc((Exception,), play_sound)\n",
    "\n",
    "# put this function at the end of a long cell to play a sound when completed\n",
    "def beep_completed():\n",
    "    display(Audio(\"../../sfx.mp3\", autoplay=True))"
   ]
  },
  {
   "cell_type": "code",
   "execution_count": 29,
   "id": "29b7511d",
   "metadata": {},
   "outputs": [],
   "source": [
    "dirs = [\"../../!data/solar irradiance/\", \"../../!data/tsi cloud cover/\"]\n",
    "keywords = {dirs[0]: [\"2014\", \"20150\", \"201510\", \"201511\", \"2015120\", \"2015121\", \"2015122\"],\n",
    "            dirs[1]: [\"202006\", \"202007\", \"202008\", \"202009\", \"20201\", \"2021\", \"2022\"]}"
   ]
  },
  {
   "cell_type": "code",
   "execution_count": 31,
   "id": "415c3117",
   "metadata": {},
   "outputs": [
    {
     "data": {
      "text/plain": [
       "{'../../!data/solar irradiance/': ['2014',\n",
       "  '20150',\n",
       "  '201510',\n",
       "  '201511',\n",
       "  '2015120',\n",
       "  '2015121',\n",
       "  '2015122'],\n",
       " '../../!data/tsi cloud cover/': ['202006',\n",
       "  '202007',\n",
       "  '202008',\n",
       "  '202009',\n",
       "  '20201',\n",
       "  '2021',\n",
       "  '2022']}"
      ]
     },
     "execution_count": 31,
     "metadata": {},
     "output_type": "execute_result"
    }
   ],
   "source": [
    "keywords"
   ]
  },
  {
   "cell_type": "code",
   "execution_count": 35,
   "id": "f2f65275",
   "metadata": {},
   "outputs": [],
   "source": [
    "# double precaution: if False and commented out. don't want to accidentally delete any files!\n",
    "# if False:\n",
    "#     for directory in dirs:\n",
    "#         for file in os.listdir(directory):\n",
    "#             path = directory + file\n",
    "#             for keyword in keywords[directory]:\n",
    "#                 if keyword in path:\n",
    "#                     os.remove(path)\n",
    "#                     print(\"deleting: \" + path)"
   ]
  }
 ],
 "metadata": {
  "kernelspec": {
   "display_name": "Python 3 (ipykernel)",
   "language": "python",
   "name": "python3"
  },
  "language_info": {
   "codemirror_mode": {
    "name": "ipython",
    "version": 3
   },
   "file_extension": ".py",
   "mimetype": "text/x-python",
   "name": "python",
   "nbconvert_exporter": "python",
   "pygments_lexer": "ipython3",
   "version": "3.9.12"
  }
 },
 "nbformat": 4,
 "nbformat_minor": 5
}
